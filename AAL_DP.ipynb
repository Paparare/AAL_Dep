{
  "nbformat": 4,
  "nbformat_minor": 0,
  "metadata": {
    "colab": {
      "provenance": [],
      "machine_shape": "hm",
      "gpuType": "A100",
      "authorship_tag": "ABX9TyNS3HdrdYEu8+76bM9Ofp8i",
      "include_colab_link": true
    },
    "kernelspec": {
      "name": "python3",
      "display_name": "Python 3"
    },
    "language_info": {
      "name": "python"
    },
    "accelerator": "GPU"
  },
  "cells": [
    {
      "cell_type": "markdown",
      "metadata": {
        "id": "view-in-github",
        "colab_type": "text"
      },
      "source": [
        "<a href=\"https://colab.research.google.com/github/Paparare/AAL_Dep/blob/main/AAL_DP.ipynb\" target=\"_parent\"><img src=\"https://colab.research.google.com/assets/colab-badge.svg\" alt=\"Open In Colab\"/></a>"
      ]
    },
    {
      "cell_type": "code",
      "source": [
        "!pip install conllu"
      ],
      "metadata": {
        "colab": {
          "base_uri": "https://localhost:8080/"
        },
        "id": "ipPEq71yrUda",
        "outputId": "18b933c5-86da-4f4a-ea70-7e3a0be23906"
      },
      "execution_count": 1,
      "outputs": [
        {
          "output_type": "stream",
          "name": "stdout",
          "text": [
            "Collecting conllu\n",
            "  Downloading conllu-4.5.3-py2.py3-none-any.whl (16 kB)\n",
            "Installing collected packages: conllu\n",
            "Successfully installed conllu-4.5.3\n"
          ]
        }
      ]
    },
    {
      "cell_type": "code",
      "source": [
        "import spacy\n",
        "from spacy.tokens import Doc\n",
        "from spacy.vocab import Vocab\n",
        "from spacy.training import Corpus\n",
        "from spacy.util import compile_infix_regex\n",
        "from spacy.tokens import DocBin\n",
        "from spacy.training.example import Example\n",
        "import random\n",
        "import conllu\n",
        "from spacy.util import minibatch, compounding\n",
        "import random"
      ],
      "metadata": {
        "id": "uU5KQHeVvAj-"
      },
      "execution_count": 13,
      "outputs": []
    },
    {
      "cell_type": "markdown",
      "source": [
        "## **Train on 500 (aal250+wh250) dataset**"
      ],
      "metadata": {
        "id": "R8kY5QkYiPRV"
      }
    },
    {
      "cell_type": "code",
      "source": [
        "# Load the dataset\n",
        "def load_data(file_path):\n",
        "    with open(file_path, 'r', encoding='utf-8') as file:\n",
        "        text = file.read()\n",
        "    sentences = conllu.parse(text)\n",
        "    return sentences\n",
        "\n",
        "def conllu_to_docbin(input_path, output_path):\n",
        "    nlp = spacy.blank('en')\n",
        "    print(\"Created blank 'en' model\")\n",
        "    db = DocBin()\n",
        "\n",
        "    for parsed_sentence in load_data(input_path):\n",
        "        words = [token['form'] for token in parsed_sentence]\n",
        "        heads = [token['head'] for token in parsed_sentence]\n",
        "        deps = [token['deprel'] for token in parsed_sentence]\n",
        "\n",
        "        doc = Doc(nlp.vocab, words=words)\n",
        "\n",
        "        for i, token in enumerate(parsed_sentence):\n",
        "            if heads[i] is not None and heads[i] > 0:\n",
        "                doc[i].head = doc[heads[i] - 1]\n",
        "            doc[i].dep_ = deps[i]\n",
        "\n",
        "        db.add(doc)\n",
        "\n",
        "    db.to_disk(output_path)\n",
        "    print(f\"Saved DocBin to {output_path}\")\n",
        "\n",
        "input_file = \"all500_gold.conllu\"\n",
        "output_file = \"output/all500_gold.spacy\"\n",
        "\n",
        "conllu_to_docbin(input_file, output_file)\n",
        "\n",
        "print(\"Conversion complete\")\n"
      ],
      "metadata": {
        "colab": {
          "base_uri": "https://localhost:8080/"
        },
        "id": "e0nFk_JSeYYT",
        "outputId": "14a9a2d9-2279-4d8a-fdf1-eded68f5c23e"
      },
      "execution_count": 36,
      "outputs": [
        {
          "output_type": "stream",
          "name": "stdout",
          "text": [
            "Created blank 'en' model\n",
            "Saved DocBin to output/all500_gold.spacy\n",
            "Conversion complete\n"
          ]
        }
      ]
    },
    {
      "cell_type": "code",
      "source": [
        "\n",
        "nlp = spacy.load(\"en_core_web_sm\")\n",
        "\n",
        "with nlp.disable_pipes(*[pipe for pipe in nlp.pipe_names if pipe not in [\"parser\", \"tok2vec\"]]):\n",
        "    optimizer = nlp.resume_training()\n",
        "\n",
        "    train_corpus = Corpus(\"output/all500_gold.spacy\")\n",
        "    train_examples = list(train_corpus(nlp))\n",
        "\n",
        "    for iteration in range(30):\n",
        "        random.shuffle(train_examples)\n",
        "        losses = {}\n",
        "        batches = minibatch(train_examples, size=compounding(4.0, 32.0, 1.001))\n",
        "        for batch in batches:\n",
        "            nlp.update(batch, drop=0.5, losses=losses, sgd=optimizer)\n",
        "\n",
        "        print(f\"Iteration {iteration}, Losses: {losses}\")"
      ],
      "metadata": {
        "colab": {
          "base_uri": "https://localhost:8080/"
        },
        "id": "wOkt_AkFutGO",
        "outputId": "ceb2e007-67a2-4369-c2fc-7bef462cb905"
      },
      "execution_count": 37,
      "outputs": [
        {
          "output_type": "stream",
          "name": "stdout",
          "text": [
            "Iteration 0, Losses: {'tok2vec': 38428.695507347584, 'parser': 6646.2635613981765}\n",
            "Iteration 1, Losses: {'tok2vec': 20638.07825422287, 'parser': 5166.6044109085915}\n",
            "Iteration 2, Losses: {'tok2vec': 16445.945892333984, 'parser': 4713.473495646052}\n",
            "Iteration 3, Losses: {'tok2vec': 13989.513061970472, 'parser': 4390.95919831109}\n",
            "Iteration 4, Losses: {'tok2vec': 11931.193512827158, 'parser': 4035.1345274132827}\n",
            "Iteration 5, Losses: {'tok2vec': 10985.20815642178, 'parser': 3829.8023581118846}\n",
            "Iteration 6, Losses: {'tok2vec': 10754.943565130234, 'parser': 3671.2738578315607}\n",
            "Iteration 7, Losses: {'tok2vec': 9567.782648071647, 'parser': 3417.8675362602203}\n",
            "Iteration 8, Losses: {'tok2vec': 8859.520077776164, 'parser': 3312.0927643062837}\n",
            "Iteration 9, Losses: {'tok2vec': 9053.932231388986, 'parser': 3197.3873333335437}\n",
            "Iteration 10, Losses: {'tok2vec': 8532.377173325047, 'parser': 3027.662936807563}\n",
            "Iteration 11, Losses: {'tok2vec': 8403.350032903254, 'parser': 2958.7527236714727}\n",
            "Iteration 12, Losses: {'tok2vec': 7790.212049968541, 'parser': 2897.18548337941}\n",
            "Iteration 13, Losses: {'tok2vec': 7945.350566394627, 'parser': 2775.9884608891493}\n",
            "Iteration 14, Losses: {'tok2vec': 7873.149945035577, 'parser': 2749.0965887096468}\n",
            "Iteration 15, Losses: {'tok2vec': 7490.05430540815, 'parser': 2608.9029740704714}\n",
            "Iteration 16, Losses: {'tok2vec': 7445.789464539732, 'parser': 2525.6701962943853}\n",
            "Iteration 17, Losses: {'tok2vec': 7167.616263829172, 'parser': 2490.7505475685616}\n",
            "Iteration 18, Losses: {'tok2vec': 7121.891991658136, 'parser': 2380.9137284319922}\n",
            "Iteration 19, Losses: {'tok2vec': 7388.504210059531, 'parser': 2427.6052513062946}\n",
            "Iteration 20, Losses: {'tok2vec': 7244.908193535055, 'parser': 2349.078551100251}\n",
            "Iteration 21, Losses: {'tok2vec': 7150.444804274477, 'parser': 2282.3597153701326}\n",
            "Iteration 22, Losses: {'tok2vec': 7028.6439566500485, 'parser': 2237.017313510779}\n",
            "Iteration 23, Losses: {'tok2vec': 6589.325594318099, 'parser': 2131.715950810126}\n",
            "Iteration 24, Losses: {'tok2vec': 7236.329626648687, 'parser': 2215.9356155914143}\n",
            "Iteration 25, Losses: {'tok2vec': 6636.109585069353, 'parser': 2077.400324369028}\n",
            "Iteration 26, Losses: {'tok2vec': 7384.183873835951, 'parser': 2111.9914682218996}\n",
            "Iteration 27, Losses: {'tok2vec': 7094.887241563905, 'parser': 2080.9682694887483}\n",
            "Iteration 28, Losses: {'tok2vec': 6741.469601770397, 'parser': 2009.7254384495295}\n",
            "Iteration 29, Losses: {'tok2vec': 7173.122908571502, 'parser': 2008.3819666886066}\n"
          ]
        }
      ]
    },
    {
      "cell_type": "code",
      "source": [
        "nlp.to_disk(\"output/all_tokenizer\")\n",
        "\n",
        "print(\"Training completed\")"
      ],
      "metadata": {
        "colab": {
          "base_uri": "https://localhost:8080/"
        },
        "id": "rLfJT2k69p6F",
        "outputId": "d25e4680-0aad-4f9f-baa3-f1c8a7bfa7b5"
      },
      "execution_count": 38,
      "outputs": [
        {
          "output_type": "stream",
          "name": "stdout",
          "text": [
            "Training completed\n"
          ]
        }
      ]
    },
    {
      "cell_type": "code",
      "source": [
        "# Load the dataset\n",
        "def load_data(file_path):\n",
        "    with open(file_path, 'r', encoding='utf-8') as file:\n",
        "        text = file.read()\n",
        "    sentences = conllu.parse(text)\n",
        "    return sentences\n",
        "\n",
        "def conllu_to_docbin(input_path, output_path):\n",
        "    nlp = spacy.blank('en')\n",
        "    print(\"Created blank 'en' model\")\n",
        "    db = DocBin()\n",
        "\n",
        "    for parsed_sentence in load_data(input_path):\n",
        "        words = [token['form'] for token in parsed_sentence]\n",
        "        heads = [token['head'] for token in parsed_sentence]\n",
        "        deps = [token['deprel'] for token in parsed_sentence]\n",
        "        doc = Doc(nlp.vocab, words=words)\n",
        "\n",
        "        for i, token in enumerate(parsed_sentence):\n",
        "            if heads[i] is not None and heads[i] > 0:\n",
        "                doc[i].head = doc[heads[i] - 1]\n",
        "            doc[i].dep_ = deps[i]\n",
        "\n",
        "        db.add(doc)\n",
        "\n",
        "    db.to_disk(output_path)\n",
        "    print(f\"Saved DocBin to {output_path}\")\n",
        "\n",
        "input_file = \"aa250_gold.conllu\"\n",
        "output_file = \"output/aa250_gold.spacy\"\n",
        "\n",
        "conllu_to_docbin(input_file, output_file)\n",
        "\n",
        "print(\"Conversion complete\")"
      ],
      "metadata": {
        "colab": {
          "base_uri": "https://localhost:8080/"
        },
        "id": "tlq_blOWaW2r",
        "outputId": "c44ab8aa-da88-4b9f-8dbc-460becff851c"
      },
      "execution_count": 39,
      "outputs": [
        {
          "output_type": "stream",
          "name": "stdout",
          "text": [
            "Created blank 'en' model\n",
            "Saved DocBin to output/aa250_gold.spacy\n",
            "Conversion complete\n"
          ]
        }
      ]
    },
    {
      "cell_type": "code",
      "source": [
        "from spacy.scorer import Scorer\n",
        "\n",
        "nlp = spacy.load(\"/content/output/all_tokenizer\")\n",
        "\n",
        "eval_corpus = Corpus(\"/content/output/aa250_gold.spacy\")\n",
        "eval_examples = list(eval_corpus(nlp))\n",
        "\n",
        "# Evaluate the model\n",
        "for example in eval_examples:\n",
        "    predicted = nlp(example.predicted.text)\n",
        "    example.predicted = predicted\n",
        "\n",
        "scorer = Scorer(nlp)\n",
        "scores = scorer.score(eval_examples)\n",
        "\n",
        "print(\"Scores:\", scores)"
      ],
      "metadata": {
        "colab": {
          "base_uri": "https://localhost:8080/"
        },
        "id": "FZXrggwIQpyh",
        "outputId": "91ddb17e-b2b4-4c6d-977b-94cbb23bb045"
      },
      "execution_count": 46,
      "outputs": [
        {
          "output_type": "stream",
          "name": "stdout",
          "text": [
            "Scores: {'token_acc': None, 'token_p': None, 'token_r': None, 'token_f': None, 'tag_acc': None, 'sents_p': 0.9280155642023347, 'sents_r': 0.8688524590163934, 'sents_f': 0.8974600188146754, 'dep_uas': 0.8517110266159696, 'dep_las': 0.49102187397975844, 'dep_las_per_type': {'discourse': {'p': 0.0, 'r': 0.0, 'f': 0.0}, 'nsubj': {'p': 0.886685552407932, 'r': 0.9178885630498533, 'f': 0.9020172910662825}, 'root': {'p': 0.4083044982698962, 'r': 0.944, 'f': 0.5700483091787439}, 'obj': {'p': 0.0, 'r': 0.0, 'f': 0.0}, '_': {'p': 0.0, 'r': 0.0, 'f': 0.0}, 'parataxis': {'p': 0.7727272727272727, 'r': 0.1878453038674033, 'f': 0.3022222222222222}, 'det': {'p': 0.9502762430939227, 'r': 0.9828571428571429, 'f': 0.9662921348314607}, 'case': {'p': 0.0, 'r': 0.0, 'f': 0.0}, 'obl': {'p': 0.0, 'r': 0.0, 'f': 0.0}, 'advmod': {'p': 0.75, 'r': 0.9020979020979021, 'f': 0.819047619047619}, 'compound': {'p': 0.8888888888888888, 'r': 0.7272727272727273, 'f': 0.7999999999999999}, 'dep': {'p': 0.0, 'r': 0.0, 'f': 0.0}, 'nmod_poss': {'p': 0.0, 'r': 0.0, 'f': 0.0}, 'appos': {'p': 1.0, 'r': 0.75, 'f': 0.8571428571428571}, 'compound_prt': {'p': 0.0, 'r': 0.0, 'f': 0.0}, 'vocative': {'p': 0.0, 'r': 0.0, 'f': 0.0}, 'mark': {'p': 0.8050847457627118, 'r': 0.9313725490196079, 'f': 0.8636363636363636}, 'advcl': {'p': 0.7142857142857143, 'r': 0.6481481481481481, 'f': 0.6796116504854369}, 'cop': {'p': 0.0, 'r': 0.0, 'f': 0.0}, 'cc': {'p': 0.9344262295081968, 'r': 0.8769230769230769, 'f': 0.9047619047619049}, 'conj': {'p': 0.9166666666666666, 'r': 0.6875, 'f': 0.7857142857142857}, 'acl': {'p': 0.9, 'r': 1.0, 'f': 0.9473684210526316}, 'aux': {'p': 0.75, 'r': 1.0, 'f': 0.8571428571428571}, 'acl_relcl': {'p': 0.0, 'r': 0.0, 'f': 0.0}, 'xcomp': {'p': 0.8854961832061069, 'r': 0.928, 'f': 0.9062500000000001}, 'amod': {'p': 0.978494623655914, 'r': 0.9578947368421052, 'f': 0.9680851063829788}, 'nmod': {'p': 0.7941176470588235, 'r': 0.7941176470588235, 'f': 0.7941176470588235}, 'ccomp': {'p': 0.8717948717948718, 'r': 0.8095238095238095, 'f': 0.8395061728395062}, 'iobj': {'p': 0.0, 'r': 0.0, 'f': 0.0}, 'expl': {'p': 0.6666666666666666, 'r': 0.6666666666666666, 'f': 0.6666666666666666}, 'nummod': {'p': 1.0, 'r': 1.0, 'f': 1.0}, 'obl_tmod': {'p': 0.0, 'r': 0.0, 'f': 0.0}, 'obl_npmod': {'p': 0.0, 'r': 0.0, 'f': 0.0}, 'fixed': {'p': 0.0, 'r': 0.0, 'f': 0.0}, 'det_predet': {'p': 0.0, 'r': 0.0, 'f': 0.0}, 'list': {'p': 0.0, 'r': 0.0, 'f': 0.0}, 'nmod_tmod': {'p': 0.0, 'r': 0.0, 'f': 0.0}, 'flat': {'p': 0.0, 'r': 0.0, 'f': 0.0}, 'csubj': {'p': 1.0, 'r': 1.0, 'f': 1.0}, 'aux_pass': {'p': 0.0, 'r': 0.0, 'f': 0.0}}, 'pos_acc': None, 'morph_acc': None, 'morph_micro_p': None, 'morph_micro_r': None, 'morph_micro_f': None, 'morph_per_feat': None, 'lemma_acc': None, 'ents_p': None, 'ents_r': None, 'ents_f': None, 'ents_per_type': None}\n"
          ]
        }
      ]
    },
    {
      "cell_type": "markdown",
      "source": [
        "Scores: {'token_acc': None, 'token_p': None, 'token_r': None, 'token_f': None, 'tag_acc': None, 'sents_p': 0.9280155642023347, 'sents_r': 0.8688524590163934, 'sents_f': 0.8974600188146754, 'dep_uas': 0.8517110266159696, 'dep_las': 0.49102187397975844, 'dep_las_per_type': {'discourse': {'p': 0.0, 'r': 0.0, 'f': 0.0}, 'nsubj': {'p': 0.886685552407932, 'r': 0.9178885630498533, 'f': 0.9020172910662825}, 'root': {'p': 0.4083044982698962, 'r': 0.944, 'f': 0.5700483091787439}, 'obj': {'p': 0.0, 'r': 0.0, 'f': 0.0}, '_': {'p': 0.0, 'r': 0.0, 'f': 0.0}, 'parataxis': {'p': 0.7727272727272727, 'r': 0.1878453038674033, 'f': 0.3022222222222222}, 'det': {'p': 0.9502762430939227, 'r': 0.9828571428571429, 'f': 0.9662921348314607}, 'case': {'p': 0.0, 'r': 0.0, 'f': 0.0}, 'obl': {'p': 0.0, 'r': 0.0, 'f': 0.0}, 'advmod': {'p': 0.75, 'r': 0.9020979020979021, 'f': 0.819047619047619}, 'compound': {'p': 0.8888888888888888, 'r': 0.7272727272727273, 'f': 0.7999999999999999}, 'dep': {'p': 0.0, 'r': 0.0, 'f': 0.0}, 'nmod_poss': {'p': 0.0, 'r': 0.0, 'f': 0.0}, 'appos': {'p': 1.0, 'r': 0.75, 'f': 0.8571428571428571}, 'compound_prt': {'p': 0.0, 'r': 0.0, 'f': 0.0}, 'vocative': {'p': 0.0, 'r': 0.0, 'f': 0.0}, 'mark': {'p': 0.8050847457627118, 'r': 0.9313725490196079, 'f': 0.8636363636363636}, 'advcl': {'p': 0.7142857142857143, 'r': 0.6481481481481481, 'f': 0.6796116504854369}, 'cop': {'p': 0.0, 'r': 0.0, 'f': 0.0}, 'cc': {'p': 0.9344262295081968, 'r': 0.8769230769230769, 'f': 0.9047619047619049}, 'conj': {'p': 0.9166666666666666, 'r': 0.6875, 'f': 0.7857142857142857}, 'acl': {'p': 0.9, 'r': 1.0, 'f': 0.9473684210526316}, 'aux': {'p': 0.75, 'r': 1.0, 'f': 0.8571428571428571}, 'acl_relcl': {'p': 0.0, 'r': 0.0, 'f': 0.0}, 'xcomp': {'p': 0.8854961832061069, 'r': 0.928, 'f': 0.9062500000000001}, 'amod': {'p': 0.978494623655914, 'r': 0.9578947368421052, 'f': 0.9680851063829788}, 'nmod': {'p': 0.7941176470588235, 'r': 0.7941176470588235, 'f': 0.7941176470588235}, 'ccomp': {'p': 0.8717948717948718, 'r': 0.8095238095238095, 'f': 0.8395061728395062}, 'iobj': {'p': 0.0, 'r': 0.0, 'f': 0.0}, 'expl': {'p': 0.6666666666666666, 'r': 0.6666666666666666, 'f': 0.6666666666666666}, 'nummod': {'p': 1.0, 'r': 1.0, 'f': 1.0}, 'obl_tmod': {'p': 0.0, 'r': 0.0, 'f': 0.0}, 'obl_npmod': {'p': 0.0, 'r': 0.0, 'f': 0.0}, 'fixed': {'p': 0.0, 'r': 0.0, 'f': 0.0}, 'det_predet': {'p': 0.0, 'r': 0.0, 'f': 0.0}, 'list': {'p': 0.0, 'r': 0.0, 'f': 0.0}, 'nmod_tmod': {'p': 0.0, 'r': 0.0, 'f': 0.0}, 'flat': {'p': 0.0, 'r': 0.0, 'f': 0.0}, 'csubj': {'p': 1.0, 'r': 1.0, 'f': 1.0}, 'aux_pass': {'p': 0.0, 'r': 0.0, 'f': 0.0}}, 'pos_acc': None, 'morph_acc': None, 'morph_micro_p': None, 'morph_micro_r': None, 'morph_micro_f': None, 'morph_per_feat': None, 'lemma_acc': None, 'ents_p': None, 'ents_r': None, 'ents_f': None, 'ents_per_type': None}\n"
      ],
      "metadata": {
        "id": "JkQrLLsFjxWc"
      }
    },
    {
      "cell_type": "markdown",
      "source": [
        "## **Train on WH250 dataset**"
      ],
      "metadata": {
        "id": "a86lQ401ih3c"
      }
    },
    {
      "cell_type": "code",
      "source": [
        "# Load the dataset\n",
        "def load_data(file_path):\n",
        "    with open(file_path, 'r', encoding='utf-8') as file:\n",
        "        text = file.read()\n",
        "    sentences = conllu.parse(text)\n",
        "    return sentences\n",
        "\n",
        "def conllu_to_docbin(input_path, output_path):\n",
        "    nlp = spacy.blank('en')\n",
        "    print(\"Created blank 'en' model\")\n",
        "    db = DocBin()\n",
        "\n",
        "    for parsed_sentence in load_data(input_path):\n",
        "        words = [token['form'] for token in parsed_sentence]\n",
        "        heads = [token['head'] for token in parsed_sentence]\n",
        "        deps = [token['deprel'] for token in parsed_sentence]\n",
        "\n",
        "        doc = Doc(nlp.vocab, words=words)\n",
        "\n",
        "        for i, token in enumerate(parsed_sentence):\n",
        "            if heads[i] is not None and heads[i] > 0:\n",
        "                doc[i].head = doc[heads[i] - 1]\n",
        "            doc[i].dep_ = deps[i]\n",
        "\n",
        "        db.add(doc)\n",
        "\n",
        "    db.to_disk(output_path)\n",
        "    print(f\"Saved DocBin to {output_path}\")\n",
        "\n",
        "input_file = \"wh250_gold.conllu\"\n",
        "output_file = \"output/wh250_gold.spacy\"\n",
        "\n",
        "conllu_to_docbin(input_file, output_file)\n",
        "\n",
        "print(\"Conversion complete\")"
      ],
      "metadata": {
        "colab": {
          "base_uri": "https://localhost:8080/"
        },
        "id": "-W1rOT_1aaBf",
        "outputId": "de8a9d01-bcbf-4159-918e-668041c86101"
      },
      "execution_count": 47,
      "outputs": [
        {
          "output_type": "stream",
          "name": "stdout",
          "text": [
            "Created blank 'en' model\n",
            "Saved DocBin to output/wh250_gold.spacy\n",
            "Conversion complete\n"
          ]
        }
      ]
    },
    {
      "cell_type": "code",
      "source": [
        "nlp = spacy.load(\"en_core_web_sm\")\n",
        "\n",
        "with nlp.disable_pipes(*[pipe for pipe in nlp.pipe_names if pipe not in [\"parser\", \"tok2vec\"]]):\n",
        "    optimizer = nlp.resume_training()\n",
        "\n",
        "    train_corpus = Corpus(\"output/wh250_gold.spacy\")\n",
        "    train_examples = list(train_corpus(nlp))\n",
        "\n",
        "    for iteration in range(30):\n",
        "        random.shuffle(train_examples)\n",
        "        losses = {}\n",
        "        batches = minibatch(train_examples, size=compounding(4.0, 32.0, 1.001))\n",
        "        for batch in batches:\n",
        "            nlp.update(batch, drop=0.5, losses=losses, sgd=optimizer)\n",
        "\n",
        "        print(f\"Iteration {iteration}, Losses: {losses}\")"
      ],
      "metadata": {
        "colab": {
          "base_uri": "https://localhost:8080/"
        },
        "id": "N71RHrQfi5xD",
        "outputId": "da604561-7f81-40a5-d8de-48cdc9fbefd0"
      },
      "execution_count": 48,
      "outputs": [
        {
          "output_type": "stream",
          "name": "stdout",
          "text": [
            "Iteration 0, Losses: {'tok2vec': 24330.326726436615, 'parser': 3596.378587731033}\n",
            "Iteration 1, Losses: {'tok2vec': 14136.28227853775, 'parser': 2848.379680356041}\n",
            "Iteration 2, Losses: {'tok2vec': 10368.99441409111, 'parser': 2502.7941889755416}\n",
            "Iteration 3, Losses: {'tok2vec': 9374.442899689078, 'parser': 2296.8618423559797}\n",
            "Iteration 4, Losses: {'tok2vec': 8507.319868206978, 'parser': 2140.422116699302}\n",
            "Iteration 5, Losses: {'tok2vec': 7395.98690778017, 'parser': 2019.594276458954}\n",
            "Iteration 6, Losses: {'tok2vec': 7250.293875068426, 'parser': 1977.4128431193599}\n",
            "Iteration 7, Losses: {'tok2vec': 6434.768035650253, 'parser': 1823.6382023935307}\n",
            "Iteration 8, Losses: {'tok2vec': 5756.613754563034, 'parser': 1730.838154066566}\n",
            "Iteration 9, Losses: {'tok2vec': 5889.736658871174, 'parser': 1730.5250339537763}\n",
            "Iteration 10, Losses: {'tok2vec': 5402.47863124311, 'parser': 1646.6211541451876}\n",
            "Iteration 11, Losses: {'tok2vec': 5354.026055032387, 'parser': 1589.5645247592147}\n",
            "Iteration 12, Losses: {'tok2vec': 4829.8629774823785, 'parser': 1517.8358293007805}\n",
            "Iteration 13, Losses: {'tok2vec': 4872.641273878515, 'parser': 1471.1217342271748}\n",
            "Iteration 14, Losses: {'tok2vec': 4637.315297320485, 'parser': 1409.7332927656955}\n",
            "Iteration 15, Losses: {'tok2vec': 4635.501392111182, 'parser': 1386.3667627527877}\n",
            "Iteration 16, Losses: {'tok2vec': 4650.223833680153, 'parser': 1384.489430936246}\n",
            "Iteration 17, Losses: {'tok2vec': 3922.280334056355, 'parser': 1253.5501367788474}\n",
            "Iteration 18, Losses: {'tok2vec': 4222.619078889489, 'parser': 1245.3028486185312}\n",
            "Iteration 19, Losses: {'tok2vec': 4057.5858063809574, 'parser': 1236.4487470867311}\n",
            "Iteration 20, Losses: {'tok2vec': 3769.967159865424, 'parser': 1173.2361635718657}\n",
            "Iteration 21, Losses: {'tok2vec': 3882.412003496662, 'parser': 1164.1117088443862}\n",
            "Iteration 22, Losses: {'tok2vec': 3696.0366941802204, 'parser': 1121.6791039628254}\n",
            "Iteration 23, Losses: {'tok2vec': 3863.1525690620765, 'parser': 1130.2832088233843}\n",
            "Iteration 24, Losses: {'tok2vec': 3899.151098428294, 'parser': 1100.3866284698634}\n",
            "Iteration 25, Losses: {'tok2vec': 3761.071964249015, 'parser': 1088.7418466485606}\n",
            "Iteration 26, Losses: {'tok2vec': 3687.6109301894903, 'parser': 1032.4064985435398}\n",
            "Iteration 27, Losses: {'tok2vec': 3691.2697733338573, 'parser': 1005.30737369789}\n",
            "Iteration 28, Losses: {'tok2vec': 3366.1733810827136, 'parser': 974.0384981117575}\n",
            "Iteration 29, Losses: {'tok2vec': 3431.1822330008727, 'parser': 1001.8971156490552}\n"
          ]
        }
      ]
    },
    {
      "cell_type": "code",
      "source": [
        "nlp.to_disk(\"output/wh_tokenizer\")\n",
        "\n",
        "print(\"Training completed\")"
      ],
      "metadata": {
        "colab": {
          "base_uri": "https://localhost:8080/"
        },
        "id": "Nu8KcjQbjeeC",
        "outputId": "dcdbf4fb-0563-41b8-f069-837bb2c1a350"
      },
      "execution_count": 49,
      "outputs": [
        {
          "output_type": "stream",
          "name": "stdout",
          "text": [
            "Training completed\n"
          ]
        }
      ]
    },
    {
      "cell_type": "code",
      "source": [
        "from spacy.scorer import Scorer\n",
        "\n",
        "nlp = spacy.load(\"/content/output/wh_tokenizer\")\n",
        "\n",
        "eval_corpus = Corpus(\"/content/output/aa250_gold.spacy\")\n",
        "eval_examples = list(eval_corpus(nlp))\n",
        "\n",
        "# Evaluate the model\n",
        "for example in eval_examples:\n",
        "    predicted = nlp(example.predicted.text)\n",
        "    example.predicted = predicted\n",
        "\n",
        "scorer = Scorer(nlp)\n",
        "scores = scorer.score(eval_examples)\n",
        "\n",
        "print(\"Scores:\", scores)"
      ],
      "metadata": {
        "colab": {
          "base_uri": "https://localhost:8080/"
        },
        "id": "uz5aFd2MjKLF",
        "outputId": "674fab70-a148-4d88-ea77-563b4105bab9"
      },
      "execution_count": 50,
      "outputs": [
        {
          "output_type": "stream",
          "name": "stdout",
          "text": [
            "Scores: {'token_acc': None, 'token_p': None, 'token_r': None, 'token_f': None, 'tag_acc': None, 'sents_p': 0.8874045801526718, 'sents_r': 0.8469945355191257, 'sents_f': 0.8667287977632806, 'dep_uas': 0.6482003649029691, 'dep_las': 0.32793853196011113, 'dep_las_per_type': {'discourse': {'p': 0.0, 'r': 0.0, 'f': 0.0}, 'nsubj': {'p': 0.688953488372093, 'r': 0.6950146627565983, 'f': 0.6919708029197081}, 'root': {'p': 0.3013698630136986, 'r': 0.704, 'f': 0.422062350119904}, 'obj': {'p': 0.0, 'r': 0.0, 'f': 0.0}, '_': {'p': 0.0, 'r': 0.0, 'f': 0.0}, 'parataxis': {'p': 0.20930232558139536, 'r': 0.049723756906077346, 'f': 0.08035714285714285}, 'det': {'p': 0.7785234899328859, 'r': 0.6628571428571428, 'f': 0.7160493827160492}, 'case': {'p': 0.0, 'r': 0.0, 'f': 0.0}, 'obl': {'p': 0.0, 'r': 0.0, 'f': 0.0}, 'advmod': {'p': 0.42857142857142855, 'r': 0.5454545454545454, 'f': 0.4799999999999999}, 'compound': {'p': 0.12751677852348994, 'r': 0.5757575757575758, 'f': 0.2087912087912088}, 'dep': {'p': 0.0, 'r': 0.0, 'f': 0.0}, 'xcomp': {'p': 0.5630252100840336, 'r': 0.536, 'f': 0.5491803278688525}, 'nmod': {'p': 0.2978723404255319, 'r': 0.4117647058823529, 'f': 0.345679012345679}, 'nmod_poss': {'p': 0.0, 'r': 0.0, 'f': 0.0}, 'appos': {'p': 0.0, 'r': 0.0, 'f': 0.0}, 'compound_prt': {'p': 0.0, 'r': 0.0, 'f': 0.0}, 'vocative': {'p': 0.0, 'r': 0.0, 'f': 0.0}, 'mark': {'p': 0.6632653061224489, 'r': 0.6372549019607843, 'f': 0.6499999999999999}, 'advcl': {'p': 0.34782608695652173, 'r': 0.14814814814814814, 'f': 0.20779220779220778}, 'acl': {'p': 0.16666666666666666, 'r': 0.1111111111111111, 'f': 0.13333333333333333}, 'cop': {'p': 0.0, 'r': 0.0, 'f': 0.0}, 'cc': {'p': 0.7619047619047619, 'r': 0.7384615384615385, 'f': 0.75}, 'conj': {'p': 0.45, 'r': 0.421875, 'f': 0.435483870967742}, 'aux': {'p': 0.625, 'r': 0.7246376811594203, 'f': 0.6711409395973154}, 'acl_relcl': {'p': 0.0, 'r': 0.0, 'f': 0.0}, 'amod': {'p': 0.5701754385964912, 'r': 0.6842105263157895, 'f': 0.6220095693779903}, 'ccomp': {'p': 0.36585365853658536, 'r': 0.35714285714285715, 'f': 0.3614457831325302}, 'nummod': {'p': 0.5384615384615384, 'r': 0.875, 'f': 0.6666666666666667}, 'iobj': {'p': 0.0, 'r': 0.0, 'f': 0.0}, 'expl': {'p': 0.125, 'r': 0.16666666666666666, 'f': 0.14285714285714288}, 'obl_tmod': {'p': 0.0, 'r': 0.0, 'f': 0.0}, 'obl_npmod': {'p': 0.0, 'r': 0.0, 'f': 0.0}, 'fixed': {'p': 0.0, 'r': 0.0, 'f': 0.0}, 'det_predet': {'p': 0.0, 'r': 0.0, 'f': 0.0}, 'list': {'p': 0.0, 'r': 0.0, 'f': 0.0}, 'nmod_tmod': {'p': 0.0, 'r': 0.0, 'f': 0.0}, 'flat': {'p': 0.0, 'r': 0.0, 'f': 0.0}, 'csubj': {'p': 0.0, 'r': 0.0, 'f': 0.0}, 'aux_pass': {'p': 0.0, 'r': 0.0, 'f': 0.0}}, 'pos_acc': None, 'morph_acc': None, 'morph_micro_p': None, 'morph_micro_r': None, 'morph_micro_f': None, 'morph_per_feat': None, 'lemma_acc': None, 'ents_p': None, 'ents_r': None, 'ents_f': None, 'ents_per_type': None}\n"
          ]
        }
      ]
    },
    {
      "cell_type": "markdown",
      "source": [
        "Scores: {'token_acc': None, 'token_p': None, 'token_r': None, 'token_f': None, 'tag_acc': None, 'sents_p': 0.8874045801526718, 'sents_r': 0.8469945355191257, 'sents_f': 0.8667287977632806, 'dep_uas': 0.6482003649029691, 'dep_las': 0.32793853196011113, 'dep_las_per_type': {'discourse': {'p': 0.0, 'r': 0.0, 'f': 0.0}, 'nsubj': {'p': 0.688953488372093, 'r': 0.6950146627565983, 'f': 0.6919708029197081}, 'root': {'p': 0.3013698630136986, 'r': 0.704, 'f': 0.422062350119904}, 'obj': {'p': 0.0, 'r': 0.0, 'f': 0.0}, '_': {'p': 0.0, 'r': 0.0, 'f': 0.0}, 'parataxis': {'p': 0.20930232558139536, 'r': 0.049723756906077346, 'f': 0.08035714285714285}, 'det': {'p': 0.7785234899328859, 'r': 0.6628571428571428, 'f': 0.7160493827160492}, 'case': {'p': 0.0, 'r': 0.0, 'f': 0.0}, 'obl': {'p': 0.0, 'r': 0.0, 'f': 0.0}, 'advmod': {'p': 0.42857142857142855, 'r': 0.5454545454545454, 'f': 0.4799999999999999}, 'compound': {'p': 0.12751677852348994, 'r': 0.5757575757575758, 'f': 0.2087912087912088}, 'dep': {'p': 0.0, 'r': 0.0, 'f': 0.0}, 'xcomp': {'p': 0.5630252100840336, 'r': 0.536, 'f': 0.5491803278688525}, 'nmod': {'p': 0.2978723404255319, 'r': 0.4117647058823529, 'f': 0.345679012345679}, 'nmod_poss': {'p': 0.0, 'r': 0.0, 'f': 0.0}, 'appos': {'p': 0.0, 'r': 0.0, 'f': 0.0}, 'compound_prt': {'p': 0.0, 'r': 0.0, 'f': 0.0}, 'vocative': {'p': 0.0, 'r': 0.0, 'f': 0.0}, 'mark': {'p': 0.6632653061224489, 'r': 0.6372549019607843, 'f': 0.6499999999999999}, 'advcl': {'p': 0.34782608695652173, 'r': 0.14814814814814814, 'f': 0.20779220779220778}, 'acl': {'p': 0.16666666666666666, 'r': 0.1111111111111111, 'f': 0.13333333333333333}, 'cop': {'p': 0.0, 'r': 0.0, 'f': 0.0}, 'cc': {'p': 0.7619047619047619, 'r': 0.7384615384615385, 'f': 0.75}, 'conj': {'p': 0.45, 'r': 0.421875, 'f': 0.435483870967742}, 'aux': {'p': 0.625, 'r': 0.7246376811594203, 'f': 0.6711409395973154}, 'acl_relcl': {'p': 0.0, 'r': 0.0, 'f': 0.0}, 'amod': {'p': 0.5701754385964912, 'r': 0.6842105263157895, 'f': 0.6220095693779903}, 'ccomp': {'p': 0.36585365853658536, 'r': 0.35714285714285715, 'f': 0.3614457831325302}, 'nummod': {'p': 0.5384615384615384, 'r': 0.875, 'f': 0.6666666666666667}, 'iobj': {'p': 0.0, 'r': 0.0, 'f': 0.0}, 'expl': {'p': 0.125, 'r': 0.16666666666666666, 'f': 0.14285714285714288}, 'obl_tmod': {'p': 0.0, 'r': 0.0, 'f': 0.0}, 'obl_npmod': {'p': 0.0, 'r': 0.0, 'f': 0.0}, 'fixed': {'p': 0.0, 'r': 0.0, 'f': 0.0}, 'det_predet': {'p': 0.0, 'r': 0.0, 'f': 0.0}, 'list': {'p': 0.0, 'r': 0.0, 'f': 0.0}, 'nmod_tmod': {'p': 0.0, 'r': 0.0, 'f': 0.0}, 'flat': {'p': 0.0, 'r': 0.0, 'f': 0.0}, 'csubj': {'p': 0.0, 'r': 0.0, 'f': 0.0}, 'aux_pass': {'p': 0.0, 'r': 0.0, 'f': 0.0}}, 'pos_acc': None, 'morph_acc': None, 'morph_micro_p': None, 'morph_micro_r': None, 'morph_micro_f': None, 'morph_per_feat': None, 'lemma_acc': None, 'ents_p': None, 'ents_r': None, 'ents_f': None, 'ents_per_type': None}\n"
      ],
      "metadata": {
        "id": "JnuomyiGjpiA"
      }
    },
    {
      "cell_type": "markdown",
      "source": [
        "## **Train on aal250 and test on the same dataset**"
      ],
      "metadata": {
        "id": "goAreVCrj5ts"
      }
    },
    {
      "cell_type": "code",
      "source": [
        "nlp = spacy.load(\"/content/output/tokenizer\")\n",
        "\n",
        "eval_corpus = Corpus(\"/content/output/aa250_gold.spacy\")\n",
        "eval_examples = list(eval_corpus(nlp))\n",
        "\n",
        "# Evaluate the model\n",
        "for example in eval_examples:\n",
        "    predicted = nlp(example.predicted.text)\n",
        "    example.predicted = predicted\n",
        "\n",
        "scorer = Scorer(nlp)\n",
        "scores = scorer.score(eval_examples)\n",
        "\n",
        "print(\"Scores:\", scores)"
      ],
      "metadata": {
        "colab": {
          "base_uri": "https://localhost:8080/"
        },
        "id": "2QKfUouhj00q",
        "outputId": "b63acc99-2e39-4fd6-8dbf-d5f319fc4604"
      },
      "execution_count": 51,
      "outputs": [
        {
          "output_type": "stream",
          "name": "stdout",
          "text": [
            "Scores: {'token_acc': None, 'token_p': None, 'token_r': None, 'token_f': None, 'tag_acc': None, 'sents_p': 0.9137931034482759, 'sents_r': 0.8688524590163934, 'sents_f': 0.8907563025210085, 'dep_uas': 0.8602649006622517, 'dep_las': 0.500571055637135, 'dep_las_per_type': {'discourse': {'p': 0.0, 'r': 0.0, 'f': 0.0}, 'nsubj': {'p': 0.8931506849315068, 'r': 0.9560117302052786, 'f': 0.923512747875354}, 'root': {'p': 0.4071550255536627, 'r': 0.956, 'f': 0.5710872162485066}, 'obj': {'p': 0.0, 'r': 0.0, 'f': 0.0}, '_': {'p': 0.0, 'r': 0.0, 'f': 0.0}, 'parataxis': {'p': 0.7857142857142857, 'r': 0.18232044198895028, 'f': 0.29596412556053814}, 'det': {'p': 0.9613259668508287, 'r': 0.9942857142857143, 'f': 0.9775280898876405}, 'case': {'p': 0.0, 'r': 0.0, 'f': 0.0}, 'obl': {'p': 0.0, 'r': 0.0, 'f': 0.0}, 'advmod': {'p': 0.7362637362637363, 'r': 0.9370629370629371, 'f': 0.8246153846153847}, 'compound': {'p': 0.8928571428571429, 'r': 0.7575757575757576, 'f': 0.819672131147541}, 'dep': {'p': 0.0, 'r': 0.0, 'f': 0.0}, 'nmod_poss': {'p': 0.0, 'r': 0.0, 'f': 0.0}, 'appos': {'p': 1.0, 'r': 0.375, 'f': 0.5454545454545454}, 'compound_prt': {'p': 0.0, 'r': 0.0, 'f': 0.0}, 'vocative': {'p': 0.0, 'r': 0.0, 'f': 0.0}, 'mark': {'p': 0.9166666666666666, 'r': 0.9705882352941176, 'f': 0.9428571428571428}, 'advcl': {'p': 0.78, 'r': 0.7222222222222222, 'f': 0.7500000000000001}, 'cop': {'p': 0.0, 'r': 0.0, 'f': 0.0}, 'cc': {'p': 0.9375, 'r': 0.9230769230769231, 'f': 0.9302325581395349}, 'conj': {'p': 0.9230769230769231, 'r': 0.75, 'f': 0.8275862068965517}, 'acl': {'p': 1.0, 'r': 1.0, 'f': 1.0}, 'aux': {'p': 0.711340206185567, 'r': 1.0, 'f': 0.8313253012048193}, 'acl_relcl': {'p': 0.0, 'r': 0.0, 'f': 0.0}, 'xcomp': {'p': 0.9590163934426229, 'r': 0.936, 'f': 0.9473684210526315}, 'amod': {'p': 0.9787234042553191, 'r': 0.968421052631579, 'f': 0.9735449735449735}, 'nmod': {'p': 1.0, 'r': 0.5882352941176471, 'f': 0.7407407407407407}, 'pcomp': {'p': 0.0, 'r': 0.0, 'f': 0.0}, 'ccomp': {'p': 0.8947368421052632, 'r': 0.8095238095238095, 'f': 0.8500000000000001}, 'iobj': {'p': 0.0, 'r': 0.0, 'f': 0.0}, 'expl': {'p': 1.0, 'r': 0.8333333333333334, 'f': 0.9090909090909091}, 'nummod': {'p': 1.0, 'r': 0.875, 'f': 0.9333333333333333}, 'obl_tmod': {'p': 0.0, 'r': 0.0, 'f': 0.0}, 'obl_npmod': {'p': 0.0, 'r': 0.0, 'f': 0.0}, 'fixed': {'p': 0.0, 'r': 0.0, 'f': 0.0}, 'det_predet': {'p': 0.0, 'r': 0.0, 'f': 0.0}, 'list': {'p': 0.0, 'r': 0.0, 'f': 0.0}, 'nmod_tmod': {'p': 0.0, 'r': 0.0, 'f': 0.0}, 'flat': {'p': 0.0, 'r': 0.0, 'f': 0.0}, 'csubj': {'p': 1.0, 'r': 1.0, 'f': 1.0}, 'aux_pass': {'p': 0.0, 'r': 0.0, 'f': 0.0}}, 'pos_acc': None, 'morph_acc': None, 'morph_micro_p': None, 'morph_micro_r': None, 'morph_micro_f': None, 'morph_per_feat': None, 'lemma_acc': None, 'ents_p': None, 'ents_r': None, 'ents_f': None, 'ents_per_type': None}\n"
          ]
        }
      ]
    },
    {
      "cell_type": "markdown",
      "source": [
        "Scores: {'token_acc': None, 'token_p': None, 'token_r': None, 'token_f': None, 'tag_acc': None, 'sents_p': 0.9137931034482759, 'sents_r': 0.8688524590163934, 'sents_f': 0.8907563025210085, 'dep_uas': 0.8602649006622517, 'dep_las': 0.500571055637135, 'dep_las_per_type': {'discourse': {'p': 0.0, 'r': 0.0, 'f': 0.0}, 'nsubj': {'p': 0.8931506849315068, 'r': 0.9560117302052786, 'f': 0.923512747875354}, 'root': {'p': 0.4071550255536627, 'r': 0.956, 'f': 0.5710872162485066}, 'obj': {'p': 0.0, 'r': 0.0, 'f': 0.0}, '_': {'p': 0.0, 'r': 0.0, 'f': 0.0}, 'parataxis': {'p': 0.7857142857142857, 'r': 0.18232044198895028, 'f': 0.29596412556053814}, 'det': {'p': 0.9613259668508287, 'r': 0.9942857142857143, 'f': 0.9775280898876405}, 'case': {'p': 0.0, 'r': 0.0, 'f': 0.0}, 'obl': {'p': 0.0, 'r': 0.0, 'f': 0.0}, 'advmod': {'p': 0.7362637362637363, 'r': 0.9370629370629371, 'f': 0.8246153846153847}, 'compound': {'p': 0.8928571428571429, 'r': 0.7575757575757576, 'f': 0.819672131147541}, 'dep': {'p': 0.0, 'r': 0.0, 'f': 0.0}, 'nmod_poss': {'p': 0.0, 'r': 0.0, 'f': 0.0}, 'appos': {'p': 1.0, 'r': 0.375, 'f': 0.5454545454545454}, 'compound_prt': {'p': 0.0, 'r': 0.0, 'f': 0.0}, 'vocative': {'p': 0.0, 'r': 0.0, 'f': 0.0}, 'mark': {'p': 0.9166666666666666, 'r': 0.9705882352941176, 'f': 0.9428571428571428}, 'advcl': {'p': 0.78, 'r': 0.7222222222222222, 'f': 0.7500000000000001}, 'cop': {'p': 0.0, 'r': 0.0, 'f': 0.0}, 'cc': {'p': 0.9375, 'r': 0.9230769230769231, 'f': 0.9302325581395349}, 'conj': {'p': 0.9230769230769231, 'r': 0.75, 'f': 0.8275862068965517}, 'acl': {'p': 1.0, 'r': 1.0, 'f': 1.0}, 'aux': {'p': 0.711340206185567, 'r': 1.0, 'f': 0.8313253012048193}, 'acl_relcl': {'p': 0.0, 'r': 0.0, 'f': 0.0}, 'xcomp': {'p': 0.9590163934426229, 'r': 0.936, 'f': 0.9473684210526315}, 'amod': {'p': 0.9787234042553191, 'r': 0.968421052631579, 'f': 0.9735449735449735}, 'nmod': {'p': 1.0, 'r': 0.5882352941176471, 'f': 0.7407407407407407}, 'pcomp': {'p': 0.0, 'r': 0.0, 'f': 0.0}, 'ccomp': {'p': 0.8947368421052632, 'r': 0.8095238095238095, 'f': 0.8500000000000001}, 'iobj': {'p': 0.0, 'r': 0.0, 'f': 0.0}, 'expl': {'p': 1.0, 'r': 0.8333333333333334, 'f': 0.9090909090909091}, 'nummod': {'p': 1.0, 'r': 0.875, 'f': 0.9333333333333333}, 'obl_tmod': {'p': 0.0, 'r': 0.0, 'f': 0.0}, 'obl_npmod': {'p': 0.0, 'r': 0.0, 'f': 0.0}, 'fixed': {'p': 0.0, 'r': 0.0, 'f': 0.0}, 'det_predet': {'p': 0.0, 'r': 0.0, 'f': 0.0}, 'list': {'p': 0.0, 'r': 0.0, 'f': 0.0}, 'nmod_tmod': {'p': 0.0, 'r': 0.0, 'f': 0.0}, 'flat': {'p': 0.0, 'r': 0.0, 'f': 0.0}, 'csubj': {'p': 1.0, 'r': 1.0, 'f': 1.0}, 'aux_pass': {'p': 0.0, 'r': 0.0, 'f': 0.0}}, 'pos_acc': None, 'morph_acc': None, 'morph_micro_p': None, 'morph_micro_r': None, 'morph_micro_f': None, 'morph_per_feat': None, 'lemma_acc': None, 'ents_p': None, 'ents_r': None, 'ents_f': None, 'ents_per_type': None}\n"
      ],
      "metadata": {
        "id": "I6_IV-JVkCqV"
      }
    }
  ]
}